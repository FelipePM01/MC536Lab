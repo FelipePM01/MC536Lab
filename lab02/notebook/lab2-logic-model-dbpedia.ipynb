{
 "cells": [
  {
   "cell_type": "markdown",
   "source": [
    "# Laboratório 2"
   ],
   "metadata": {}
  },
  {
   "cell_type": "markdown",
   "source": [
    "## Tarefa 1\n",
    "\n",
    "### Carregue o nó de Tenda dos Milagres (da versão em inglês Tent of Miracles) em Python e mostre o conteúdo JSON."
   ],
   "metadata": {}
  },
  {
   "cell_type": "code",
   "execution_count": 1,
   "source": [
    "import io\r\n",
    "import requests\r\n",
    "import json"
   ],
   "outputs": [],
   "metadata": {}
  },
  {
   "cell_type": "code",
   "execution_count": 37,
   "source": [
    "url_template = \"http://dbpedia.org/data/{concept}.{format}\"\r\n",
    "\r\n",
    "concept = \"Tent of Miracles (novel)\"\r\n",
    "format = \"jsod\"\r\n",
    "\r\n",
    "concept = concept.replace(\" \", \"_\")\r\n",
    "\r\n",
    "url = url_template.replace(\"{concept}\", concept)\\\r\n",
    "                  .replace(\"{format}\", format)\r\n",
    "\r\n",
    "data = requests.get(url)\r\n",
    "js = data.json()\r\n",
    "print(json.dumps(js, indent=3))"
   ],
   "outputs": [
    {
     "output_type": "stream",
     "name": "stdout",
     "text": [
      "{\n",
      "   \"d\": {\n",
      "      \"results\": [\n",
      "         {\n",
      "            \"__metadata\": {\n",
      "               \"uri\": \"http://dbpedia.org/resource/Tent_of_Miracles_(novel)\"\n",
      "            },\n",
      "            \"http://www.w3.org/2000/01/rdf-schema#label\": \"Tent of Miracles (novel)\",\n",
      "            \"http://dbpedia.org/ontology/wikiPageWikiLink\": {\n",
      "               \"__deferred\": {\n",
      "                  \"uri\": \"http://dbpedia.org/resource/French_New_Wave\"\n",
      "               }\n",
      "            },\n",
      "            \"http://purl.org/dc/terms/subject\": {\n",
      "               \"__deferred\": {\n",
      "                  \"uri\": \"http://dbpedia.org/resource/Category:Modernist_novels\"\n",
      "               }\n",
      "            },\n",
      "            \"http://www.w3.org/1999/02/22-rdf-syntax-ns#type\": {\n",
      "               \"__deferred\": {\n",
      "                  \"uri\": \"http://dbpedia.org/ontology/WrittenWork\"\n",
      "               }\n",
      "            },\n",
      "            \"http://dbpedia.org/property/wikiPageUsesTemplate\": {\n",
      "               \"__deferred\": {\n",
      "                  \"uri\": \"http://dbpedia.org/resource/Template:According_to_whom\"\n",
      "               }\n",
      "            },\n",
      "            \"http://www.w3.org/2000/01/rdf-schema#comment\": \"Tent of Miracles (Portuguese: Tenda dos Milagres) is a Brazilian Modernist novel. It was written by Jorge Amado in 1967 and published the following year. It was later adapted to a 1977 Cinema Novo (Nouvelle Vague) film by director/screenplay writer Nelson Pereira dos Santos.\",\n",
      "            \"http://dbpedia.org/ontology/abstract\": \"La bottega dei miracoli \\u00e8 un romanzo di Jorge Amado pubblicato nel 1960. Come altri romanzi dell&#39;autore (ad esempio Tieta d&#39;Agreste e Teresa Batista) \\u00e8 un testo composito, con un intreccio zigzagante fra analessi e prolessi, con mutamenti di voci narranti ed inserti di materiale eterogeneo.\\u00c8 possibile che l&#39;evento scatenante del racconto (la visita del famoso scienziato) sia stato ispirato dall&#39;esperienza vissuta; in quello stesso 1960, infatti, Jean Paul Sartre e Simone De Beauvoir visitarono il Brasile su invito dello stesso Amado: la visita divenne un evento mediatico, celebrato in numerose manifestazioni istituzionali.\",\n",
      "            \"http://dbpedia.org/property/pubDate\": \"1969\",\n",
      "            \"http://dbpedia.org/property/country\": {\n",
      "               \"__deferred\": {\n",
      "                  \"uri\": \"http://dbpedia.org/resource/Brazil\"\n",
      "               }\n",
      "            },\n",
      "            \"http://www.w3.org/2002/07/owl#sameAs\": {\n",
      "               \"__deferred\": {\n",
      "                  \"uri\": \"http://rdf.freebase.com/ns/m.02xrs4\"\n",
      "               }\n",
      "            },\n",
      "            \"http://dbpedia.org/ontology/wikiPageRevisionID\": \"974212123\",\n",
      "            \"http://dbpedia.org/property/author\": {\n",
      "               \"__deferred\": {\n",
      "                  \"uri\": \"http://dbpedia.org/resource/Jorge_Amado\"\n",
      "               }\n",
      "            },\n",
      "            \"http://dbpedia.org/ontology/author\": {\n",
      "               \"__deferred\": {\n",
      "                  \"uri\": \"http://dbpedia.org/resource/Jorge_Amado\"\n",
      "               }\n",
      "            },\n",
      "            \"http://xmlns.com/foaf/0.1/name\": \"Tenda dos Milagres\",\n",
      "            \"http://dbpedia.org/property/englishPubDate\": \"1971\",\n",
      "            \"http://dbpedia.org/ontology/country\": {\n",
      "               \"__deferred\": {\n",
      "                  \"uri\": \"http://dbpedia.org/resource/Brazil\"\n",
      "               }\n",
      "            },\n",
      "            \"http://dbpedia.org/property/name\": \"Tent of Miracles\",\n",
      "            \"http://purl.org/linguistics/gold/hypernym\": {\n",
      "               \"__deferred\": {\n",
      "                  \"uri\": \"http://dbpedia.org/resource/Novel\"\n",
      "               }\n",
      "            },\n",
      "            \"http://dbpedia.org/property/titleOrig\": \"Tenda dos Milagres\",\n",
      "            \"http://dbpedia.org/ontology/publisher\": {\n",
      "               \"__deferred\": {\n",
      "                  \"uri\": \"http://dbpedia.org/resource/Brazil\"\n",
      "               }\n",
      "            },\n",
      "            \"http://dbpedia.org/ontology/language\": {\n",
      "               \"__deferred\": {\n",
      "                  \"uri\": \"http://dbpedia.org/resource/Portuguese_language\"\n",
      "               }\n",
      "            },\n",
      "            \"http://www.w3.org/ns/prov#wasDerivedFrom\": {\n",
      "               \"__deferred\": {\n",
      "                  \"uri\": \"http://en.wikipedia.org/wiki/Tent_of_Miracles_(novel)?oldid=974212123&ns=0\"\n",
      "               }\n",
      "            },\n",
      "            \"http://dbpedia.org/ontology/wikiPageLength\": \"5253\",\n",
      "            \"http://purl.org/dc/elements/1.1/publisher\": \"Martins, Sao Paulo, Brazil\",\n",
      "            \"http://dbpedia.org/property/language\": {\n",
      "               \"__deferred\": {\n",
      "                  \"uri\": \"http://dbpedia.org/resource/Portuguese_language\"\n",
      "               }\n",
      "            },\n",
      "            \"http://dbpedia.org/ontology/wikiPageID\": \"623351\",\n",
      "            \"http://dbpedia.org/property/publisher\": \"Martins, Sao Paulo, Brazil\",\n",
      "            \"http://dbpedia.org/property/caption\": \"First edition\",\n",
      "            \"http://xmlns.com/foaf/0.1/isPrimaryTopicOf\": {\n",
      "               \"__deferred\": {\n",
      "                  \"uri\": \"http://en.wikipedia.org/wiki/Tent_of_Miracles_(novel)\"\n",
      "               }\n",
      "            }\n",
      "         }\n",
      "      ],\n",
      "      \"__count\": \"1\"\n",
      "   }\n",
      "}\n"
     ]
    }
   ],
   "metadata": {}
  },
  {
   "cell_type": "markdown",
   "source": [
    "## Tarefa 2\n",
    "### Recupere via Python e mostre o autor de Tenda dos Milagres?"
   ],
   "metadata": {}
  },
  {
   "cell_type": "code",
   "execution_count": 39,
   "source": [
    "grass = js[\"d\"][\"results\"][0][\"http://dbpedia.org/ontology/author\"][\"__deferred\"][\"uri\"]\r\n",
    "print(\"Autor de Tenda dos Milagres: \" + grass)"
   ],
   "outputs": [
    {
     "output_type": "stream",
     "name": "stdout",
     "text": [
      "Autor de Tenda dos Milagres: http://dbpedia.org/resource/Jorge_Amado\n"
     ]
    }
   ],
   "metadata": {}
  },
  {
   "cell_type": "markdown",
   "source": [
    "## Tarefa 3\n",
    "### Quais os termos usados para Aspirina (consulta JSON/MeSH em Python)?"
   ],
   "metadata": {}
  },
  {
   "cell_type": "code",
   "execution_count": 40,
   "source": [
    "url_template = \"https://id.nlm.nih.gov/mesh/lookup/descriptor?label={concept}&match={match}&limit={limit}\"\r\n",
    "\r\n",
    "concept = \"Aspirin\"\r\n",
    "match = \"exact\"\r\n",
    "limit = \"10\"\r\n",
    "\r\n",
    "concept = concept.replace(\" \", \"%20\")\r\n",
    "\r\n",
    "url = url_template.replace(\"{concept}\", concept)\\\r\n",
    "                  .replace(\"{match}\", match)\\\r\n",
    "                  .replace(\"{limit}\", limit)\r\n",
    "\r\n",
    "data = requests.get(url)\r\n",
    "json_mi = data.json()\r\n",
    "uri_mesh = json_mi[0][\"resource\"]\r\n",
    "bar = str.rindex(uri_mesh, \"/\")\r\n",
    "url_template = \"https://id.nlm.nih.gov/mesh/lookup/details?descriptor={code}\"\r\n",
    "\r\n",
    "code = uri_mesh[bar+1:]\r\n",
    "\r\n",
    "url = url_template.replace(\"{code}\", code)\r\n",
    "\r\n",
    "data = requests.get(url)\r\n",
    "json_mid = data.json()\r\n",
    "print(\"Os termos são: \")\r\n",
    "for termo in json_mid[\"terms\"]:\r\n",
    "    print(termo[\"label\"])"
   ],
   "outputs": [
    {
     "output_type": "stream",
     "name": "stdout",
     "text": [
      "Os termos são: \n",
      "Aspirin\n",
      "2-(Acetyloxy)benzoic Acid\n",
      "Acetylsalicylic Acid\n",
      "Acetysal\n",
      "Acylpyrin\n",
      "Aloxiprimum\n",
      "Colfarit\n",
      "Dispril\n",
      "Easprin\n",
      "Ecotrin\n",
      "Endosprin\n",
      "Magnecyl\n",
      "Micristin\n",
      "Polopirin\n",
      "Polopiryna\n",
      "Solprin\n",
      "Solupsan\n",
      "Zorprin\n"
     ]
    }
   ],
   "metadata": {}
  },
  {
   "cell_type": "markdown",
   "source": [
    "## Tarefa 4\n",
    "### Escolha algum lugar no OpenStreetMap e elabore a mesma sequência de três chamadas de serviços para o seu conceito."
   ],
   "metadata": {}
  },
  {
   "cell_type": "code",
   "execution_count": 38,
   "source": [
    "url_template = \"http://nominatim.openstreetmap.org/search?format={format}&q={query}\"\r\n",
    "format = \"json\"\r\n",
    "query = \"Montreal Biosphere\"\r\n",
    "\r\n",
    "url = url_template.replace(\"{format}\", format)\\\r\n",
    "                  .replace(\"{query}\", query)\r\n",
    "\r\n",
    "data = requests.get(url)\r\n",
    "museum_ref = data.json()\r\n",
    "print(json.dumps(museum_ref, indent=3))"
   ],
   "outputs": [
    {
     "output_type": "stream",
     "name": "stdout",
     "text": [
      "[\n",
      "   {\n",
      "      \"place_id\": 95644572,\n",
      "      \"licence\": \"Data \\u00a9 OpenStreetMap contributors, ODbL 1.0. https://osm.org/copyright\",\n",
      "      \"osm_type\": \"way\",\n",
      "      \"osm_id\": 26288030,\n",
      "      \"boundingbox\": [\n",
      "         \"45.5137636\",\n",
      "         \"45.5144526\",\n",
      "         \"-73.5319175\",\n",
      "         \"-73.5309361\"\n",
      "      ],\n",
      "      \"lat\": \"45.51410625\",\n",
      "      \"lon\": \"-73.53142691728917\",\n",
      "      \"display_name\": \"Biosph\\u00e8re, Rue des Seagulls, Ville-Marie, Montr\\u00e9al, Agglom\\u00e9ration de Montr\\u00e9al, Montr\\u00e9al (06), Qu\\u00e9bec, J4P 3P2, Canada\",\n",
      "      \"class\": \"tourism\",\n",
      "      \"type\": \"attraction\",\n",
      "      \"importance\": 0.3324222070032212,\n",
      "      \"icon\": \"https://nominatim.openstreetmap.org/ui/mapicons//poi_point_of_interest.p.20.png\"\n",
      "   }\n",
      "]\n"
     ]
    }
   ],
   "metadata": {}
  },
  {
   "cell_type": "code",
   "execution_count": 39,
   "source": [
    "url_template = \"https://api.openstreetmap.org/api/0.6/{element_type}/{id}.{format}\"\r\n",
    "\r\n",
    "element_type = \"way\" # types: node, way, or relation\r\n",
    "id = str(museum_ref[0][\"osm_id\"])\r\n",
    "format = \"json\"\r\n",
    "\r\n",
    "url = url_template.replace(\"{element_type}\", element_type)\\\r\n",
    "                  .replace(\"{id}\", id)\\\r\n",
    "                  .replace(\"{format}\", format)\r\n",
    "\r\n",
    "data = requests.get(url)\r\n",
    "museum_way = data.json()\r\n",
    "print(json.dumps(museum_way, indent=3))"
   ],
   "outputs": [
    {
     "output_type": "stream",
     "name": "stdout",
     "text": [
      "{\n",
      "   \"version\": \"0.6\",\n",
      "   \"generator\": \"CGImap 0.8.5 (2397205 spike-08.openstreetmap.org)\",\n",
      "   \"copyright\": \"OpenStreetMap and contributors\",\n",
      "   \"attribution\": \"http://www.openstreetmap.org/copyright\",\n",
      "   \"license\": \"http://opendatacommons.org/licenses/odbl/1-0/\",\n",
      "   \"elements\": [\n",
      "      {\n",
      "         \"type\": \"way\",\n",
      "         \"id\": 26288030,\n",
      "         \"timestamp\": \"2018-05-23T23:20:53Z\",\n",
      "         \"version\": 8,\n",
      "         \"changeset\": 59226661,\n",
      "         \"user\": \"WaltherPPK\",\n",
      "         \"uid\": 2911976,\n",
      "         \"nodes\": [\n",
      "            3871208080,\n",
      "            287958701,\n",
      "            3871208081,\n",
      "            287958650,\n",
      "            287958651,\n",
      "            287958655,\n",
      "            287958656,\n",
      "            287958657,\n",
      "            316210678,\n",
      "            287958658,\n",
      "            957786432,\n",
      "            287958669,\n",
      "            287958670,\n",
      "            287958675,\n",
      "            287958676,\n",
      "            287958677,\n",
      "            955578154,\n",
      "            287958684,\n",
      "            287958698,\n",
      "            287958699,\n",
      "            287958700,\n",
      "            957786433,\n",
      "            3871208080\n",
      "         ],\n",
      "         \"tags\": {\n",
      "            \"building\": \"yes\",\n",
      "            \"email\": \"ec.info-biosphere-info-biosphere.ec@canada.ca\",\n",
      "            \"name\": \"Biosph\\u00e8re\",\n",
      "            \"name:en\": \"Biosphere\",\n",
      "            \"old_name\": \"American Pavilion of Expo 67\",\n",
      "            \"tourism\": \"attraction\",\n",
      "            \"wikidata\": \"Q864789\",\n",
      "            \"wikipedia\": \"en:Montreal Biosph\\u00e8re\"\n",
      "         }\n",
      "      }\n",
      "   ]\n",
      "}\n"
     ]
    }
   ],
   "metadata": {}
  },
  {
   "cell_type": "code",
   "execution_count": 40,
   "source": [
    "print(museum_way[\"elements\"][0][\"tags\"][\"wikipedia\"])"
   ],
   "outputs": [
    {
     "output_type": "stream",
     "name": "stdout",
     "text": [
      "en:Montreal Biosphère\n"
     ]
    }
   ],
   "metadata": {}
  },
  {
   "cell_type": "code",
   "execution_count": 41,
   "source": [
    "url_template = \"http://dbpedia.org/data/{concept}.{format}\"\r\n",
    "concept = museum_way[\"elements\"][0][\"tags\"][\"wikipedia\"].replace(\" \", \"_\")\\\r\n",
    "                                                        .replace(\"en:\", \"\")\r\n",
    "format = \"jsod\"\r\n",
    "\r\n",
    "url = url_template.replace(\"{concept}\", concept)\\\r\n",
    "                  .replace(\"{format}\", format)\r\n",
    "\r\n",
    "data = requests.get(url)\r\n",
    "museum_dbpedia = data.json()\r\n",
    "print(json.dumps(museum_dbpedia, indent=3))"
   ],
   "outputs": [
    {
     "output_type": "stream",
     "name": "stdout",
     "text": [
      "{\n",
      "   \"d\": {\n",
      "      \"results\": [\n",
      "         {\n",
      "            \"__metadata\": {\n",
      "               \"uri\": \"http://dbpedia.org/resource/Montreal_Biosph\\u00e8re\"\n",
      "            },\n",
      "            \"http://www.w3.org/1999/02/22-rdf-syntax-ns#type\": {\n",
      "               \"__deferred\": {\n",
      "                  \"uri\": \"http://dbpedia.org/class/yago/WikicatEventVenuesEstablishedIn1980\"\n",
      "               }\n",
      "            },\n",
      "            \"http://purl.org/linguistics/gold/hypernym\": {\n",
      "               \"__deferred\": {\n",
      "                  \"uri\": \"http://dbpedia.org/resource/Museum\"\n",
      "               }\n",
      "            },\n",
      "            \"http://dbpedia.org/ontology/wikiPageRedirects\": {\n",
      "               \"__deferred\": {\n",
      "                  \"uri\": \"http://dbpedia.org/resource/Montreal_Biosphere\"\n",
      "               }\n",
      "            },\n",
      "            \"http://www.w3.org/ns/prov#wasDerivedFrom\": {\n",
      "               \"__deferred\": {\n",
      "                  \"uri\": \"http://en.wikipedia.org/wiki/Montreal_Biosph\\u00e8re?oldid=851034830&ns=0\"\n",
      "               }\n",
      "            },\n",
      "            \"http://dbpedia.org/property/wikiPageUsesTemplate\": {\n",
      "               \"__deferred\": {\n",
      "                  \"uri\": \"http://dbpedia.org/resource/Template:R_from_move\"\n",
      "               }\n",
      "            },\n",
      "            \"http://dbpedia.org/ontology/wikiPageRevisionID\": \"851034830\",\n",
      "            \"http://xmlns.com/foaf/0.1/isPrimaryTopicOf\": {\n",
      "               \"__deferred\": {\n",
      "                  \"uri\": \"http://en.wikipedia.org/wiki/Montreal_Biosph\\u00e8re\"\n",
      "               }\n",
      "            },\n",
      "            \"http://www.w3.org/2002/07/owl#sameAs\": {\n",
      "               \"__deferred\": {\n",
      "                  \"uri\": \"http://rdf.freebase.com/ns/m.085vch\"\n",
      "               }\n",
      "            },\n",
      "            \"http://dbpedia.org/ontology/wikiPageID\": \"57940972\",\n",
      "            \"http://dbpedia.org/ontology/wikiPageLength\": \"49\",\n",
      "            \"http://xmlns.com/foaf/0.1/depiction\": {\n",
      "               \"__deferred\": {\n",
      "                  \"uri\": \"http://commons.wikimedia.org/wiki/Special:FilePath/Montreal_Biosphere.JPG\"\n",
      "               }\n",
      "            },\n",
      "            \"http://dbpedia.org/ontology/thumbnail\": {\n",
      "               \"__deferred\": {\n",
      "                  \"uri\": \"http://commons.wikimedia.org/wiki/Special:FilePath/Montreal_Biosphere.JPG?width=300\"\n",
      "               }\n",
      "            },\n",
      "            \"http://dbpedia.org/ontology/wikiPageWikiLink\": {\n",
      "               \"__deferred\": {\n",
      "                  \"uri\": \"http://dbpedia.org/resource/Montreal_Biosphere\"\n",
      "               }\n",
      "            },\n",
      "            \"http://www.w3.org/2000/01/rdf-schema#label\": \"Montreal Biosph\\u00e8re\"\n",
      "         }\n",
      "      ],\n",
      "      \"__count\": \"1\"\n",
      "   }\n",
      "}\n"
     ]
    }
   ],
   "metadata": {}
  }
 ],
 "metadata": {
  "kernelspec": {
   "name": "python3",
   "display_name": "Python 3.9.7 64-bit"
  },
  "language_info": {
   "codemirror_mode": {
    "name": "ipython",
    "version": 3
   },
   "file_extension": ".py",
   "mimetype": "text/x-python",
   "name": "python",
   "nbconvert_exporter": "python",
   "pygments_lexer": "ipython3",
   "version": "3.9.7"
  },
  "interpreter": {
   "hash": "fe44fef87f92f48a3a32707d0df204585f471652bc0ce87358a3ce712bc24db0"
  }
 },
 "nbformat": 4,
 "nbformat_minor": 5
}